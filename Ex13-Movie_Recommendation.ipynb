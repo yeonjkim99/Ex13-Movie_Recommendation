{
 "cells": [
  {
   "cell_type": "markdown",
   "id": "e16305c9",
   "metadata": {},
   "source": [
    "# 13-9. 프로젝트 - Movielens 영화 추천 실습"
   ]
  },
  {
   "cell_type": "markdown",
   "id": "f4f85552",
   "metadata": {},
   "source": [
    "## 0. 환경설정 및 필요한 라이브러리 Import"
   ]
  },
  {
   "cell_type": "code",
   "execution_count": 1,
   "id": "a183b054",
   "metadata": {},
   "outputs": [],
   "source": [
    "# ! mkdir -p ~/aiffel/recommendata_iu/data/ml-1m\n",
    "# ! ln -s ~/data/ml-1m/* ~/aiffel/recommendata_iu/data/ml-1m"
   ]
  },
  {
   "cell_type": "code",
   "execution_count": 2,
   "id": "225b9abb",
   "metadata": {},
   "outputs": [
    {
     "name": "stdout",
     "output_type": "stream",
     "text": [
      "1.21.4\n",
      "1.7.1\n",
      "0.4.8\n"
     ]
    }
   ],
   "source": [
    "import os\n",
    "import warnings\n",
    "warnings.filterwarnings(\"ignore\")\n",
    "import pandas as pd\n",
    "import numpy as np\n",
    "import scipy\n",
    "import implicit\n",
    "\n",
    "print(np.__version__)\n",
    "print(scipy.__version__)\n",
    "print(implicit.__version__)"
   ]
  },
  {
   "cell_type": "markdown",
   "id": "395ab314",
   "metadata": {},
   "source": [
    "## 1. 데이터 준비와 전처리"
   ]
  },
  {
   "cell_type": "markdown",
   "id": "24908996",
   "metadata": {},
   "source": [
    "### 1-1. 데이터 준비"
   ]
  },
  {
   "cell_type": "code",
   "execution_count": 3,
   "id": "9d2859e3",
   "metadata": {},
   "outputs": [
    {
     "data": {
      "text/html": [
       "<div>\n",
       "<style scoped>\n",
       "    .dataframe tbody tr th:only-of-type {\n",
       "        vertical-align: middle;\n",
       "    }\n",
       "\n",
       "    .dataframe tbody tr th {\n",
       "        vertical-align: top;\n",
       "    }\n",
       "\n",
       "    .dataframe thead th {\n",
       "        text-align: right;\n",
       "    }\n",
       "</style>\n",
       "<table border=\"1\" class=\"dataframe\">\n",
       "  <thead>\n",
       "    <tr style=\"text-align: right;\">\n",
       "      <th></th>\n",
       "      <th>user_id</th>\n",
       "      <th>movie_id</th>\n",
       "      <th>ratings</th>\n",
       "      <th>timestamp</th>\n",
       "    </tr>\n",
       "  </thead>\n",
       "  <tbody>\n",
       "    <tr>\n",
       "      <th>0</th>\n",
       "      <td>1</td>\n",
       "      <td>1193</td>\n",
       "      <td>5</td>\n",
       "      <td>978300760</td>\n",
       "    </tr>\n",
       "    <tr>\n",
       "      <th>1</th>\n",
       "      <td>1</td>\n",
       "      <td>661</td>\n",
       "      <td>3</td>\n",
       "      <td>978302109</td>\n",
       "    </tr>\n",
       "    <tr>\n",
       "      <th>2</th>\n",
       "      <td>1</td>\n",
       "      <td>914</td>\n",
       "      <td>3</td>\n",
       "      <td>978301968</td>\n",
       "    </tr>\n",
       "    <tr>\n",
       "      <th>3</th>\n",
       "      <td>1</td>\n",
       "      <td>3408</td>\n",
       "      <td>4</td>\n",
       "      <td>978300275</td>\n",
       "    </tr>\n",
       "    <tr>\n",
       "      <th>4</th>\n",
       "      <td>1</td>\n",
       "      <td>2355</td>\n",
       "      <td>5</td>\n",
       "      <td>978824291</td>\n",
       "    </tr>\n",
       "  </tbody>\n",
       "</table>\n",
       "</div>"
      ],
      "text/plain": [
       "   user_id  movie_id  ratings  timestamp\n",
       "0        1      1193        5  978300760\n",
       "1        1       661        3  978302109\n",
       "2        1       914        3  978301968\n",
       "3        1      3408        4  978300275\n",
       "4        1      2355        5  978824291"
      ]
     },
     "execution_count": 3,
     "metadata": {},
     "output_type": "execute_result"
    }
   ],
   "source": [
    "# Movielens 데이터는 rating.dat 안에 이미 인덱싱까지 완료된 사용자-영화-평점 데이터가 깔끔하게 정리되어 있습니다.\n",
    "rating_file_path=os.getenv('HOME') + '/aiffel/recommendata_iu/data/ml-1m/ratings.dat'\n",
    "ratings_cols = ['user_id', 'movie_id', 'ratings', 'timestamp']\n",
    "ratings = pd.read_csv(rating_file_path, sep='::', names=ratings_cols, engine='python', encoding = \"ISO-8859-1\")\n",
    "orginal_data_size = len(ratings)\n",
    "ratings.head()"
   ]
  },
  {
   "cell_type": "markdown",
   "id": "21808bfd",
   "metadata": {},
   "source": [
    "## 1-2. 데이터 전처리"
   ]
  },
  {
   "cell_type": "code",
   "execution_count": 4,
   "id": "8877664b",
   "metadata": {},
   "outputs": [
    {
     "name": "stdout",
     "output_type": "stream",
     "text": [
      "orginal_data_size: 1000209, filtered_data_size: 836478\n",
      "Ratio of Remaining Data is 83.63%\n"
     ]
    }
   ],
   "source": [
    "# 3점 이상만 남깁니다.\n",
    "ratings = ratings[ratings['ratings']>=3]\n",
    "filtered_data_size = len(ratings)\n",
    "\n",
    "print(f'orginal_data_size: {orginal_data_size}, filtered_data_size: {filtered_data_size}')\n",
    "print(f'Ratio of Remaining Data is {filtered_data_size / orginal_data_size:.2%}')"
   ]
  },
  {
   "cell_type": "code",
   "execution_count": 5,
   "id": "4efa906b",
   "metadata": {},
   "outputs": [
    {
     "data": {
      "text/plain": [
       "0          5\n",
       "1          3\n",
       "2          3\n",
       "3          4\n",
       "4          5\n",
       "          ..\n",
       "1000203    3\n",
       "1000205    5\n",
       "1000206    5\n",
       "1000207    4\n",
       "1000208    4\n",
       "Name: counts, Length: 836478, dtype: int64"
      ]
     },
     "execution_count": 5,
     "metadata": {},
     "output_type": "execute_result"
    }
   ],
   "source": [
    "# 평점을 시청횟수로 해석할것이므로 ratings 컬럼의 이름을 counts로 바꿉니다.\n",
    "ratings.rename(columns={'ratings':'counts'}, inplace=True)\n",
    "ratings['counts']"
   ]
  },
  {
   "cell_type": "code",
   "execution_count": 6,
   "id": "a7f14bad",
   "metadata": {},
   "outputs": [
    {
     "data": {
      "text/html": [
       "<div>\n",
       "<style scoped>\n",
       "    .dataframe tbody tr th:only-of-type {\n",
       "        vertical-align: middle;\n",
       "    }\n",
       "\n",
       "    .dataframe tbody tr th {\n",
       "        vertical-align: top;\n",
       "    }\n",
       "\n",
       "    .dataframe thead th {\n",
       "        text-align: right;\n",
       "    }\n",
       "</style>\n",
       "<table border=\"1\" class=\"dataframe\">\n",
       "  <thead>\n",
       "    <tr style=\"text-align: right;\">\n",
       "      <th></th>\n",
       "      <th>movie_id</th>\n",
       "      <th>title</th>\n",
       "      <th>genre</th>\n",
       "    </tr>\n",
       "  </thead>\n",
       "  <tbody>\n",
       "    <tr>\n",
       "      <th>0</th>\n",
       "      <td>1</td>\n",
       "      <td>Toy Story (1995)</td>\n",
       "      <td>Animation|Children's|Comedy</td>\n",
       "    </tr>\n",
       "    <tr>\n",
       "      <th>1</th>\n",
       "      <td>2</td>\n",
       "      <td>Jumanji (1995)</td>\n",
       "      <td>Adventure|Children's|Fantasy</td>\n",
       "    </tr>\n",
       "    <tr>\n",
       "      <th>2</th>\n",
       "      <td>3</td>\n",
       "      <td>Grumpier Old Men (1995)</td>\n",
       "      <td>Comedy|Romance</td>\n",
       "    </tr>\n",
       "    <tr>\n",
       "      <th>3</th>\n",
       "      <td>4</td>\n",
       "      <td>Waiting to Exhale (1995)</td>\n",
       "      <td>Comedy|Drama</td>\n",
       "    </tr>\n",
       "    <tr>\n",
       "      <th>4</th>\n",
       "      <td>5</td>\n",
       "      <td>Father of the Bride Part II (1995)</td>\n",
       "      <td>Comedy</td>\n",
       "    </tr>\n",
       "  </tbody>\n",
       "</table>\n",
       "</div>"
      ],
      "text/plain": [
       "   movie_id                               title                         genre\n",
       "0         1                    Toy Story (1995)   Animation|Children's|Comedy\n",
       "1         2                      Jumanji (1995)  Adventure|Children's|Fantasy\n",
       "2         3             Grumpier Old Men (1995)                Comedy|Romance\n",
       "3         4            Waiting to Exhale (1995)                  Comedy|Drama\n",
       "4         5  Father of the Bride Part II (1995)                        Comedy"
      ]
     },
     "execution_count": 6,
     "metadata": {},
     "output_type": "execute_result"
    }
   ],
   "source": [
    "# 영화 제목을 보기 위해 메타 데이터를 읽어옵니다.\n",
    "movie_file_path=os.getenv('HOME') + '/aiffel/recommendata_iu/data/ml-1m/movies.dat'\n",
    "cols = ['movie_id', 'title', 'genre'] \n",
    "movies = pd.read_csv(movie_file_path, sep='::', names=cols, engine='python', encoding='ISO-8859-1')\n",
    "movies.head()"
   ]
  },
  {
   "cell_type": "code",
   "execution_count": 7,
   "id": "036782eb",
   "metadata": {},
   "outputs": [],
   "source": [
    "# movies와 ratings를 합쳐준다.\n",
    "data= pd.merge(movies, ratings)"
   ]
  },
  {
   "cell_type": "code",
   "execution_count": 8,
   "id": "4a5dccbf",
   "metadata": {},
   "outputs": [
    {
     "data": {
      "text/html": [
       "<div>\n",
       "<style scoped>\n",
       "    .dataframe tbody tr th:only-of-type {\n",
       "        vertical-align: middle;\n",
       "    }\n",
       "\n",
       "    .dataframe tbody tr th {\n",
       "        vertical-align: top;\n",
       "    }\n",
       "\n",
       "    .dataframe thead th {\n",
       "        text-align: right;\n",
       "    }\n",
       "</style>\n",
       "<table border=\"1\" class=\"dataframe\">\n",
       "  <thead>\n",
       "    <tr style=\"text-align: right;\">\n",
       "      <th></th>\n",
       "      <th>user_id</th>\n",
       "      <th>title</th>\n",
       "      <th>counts</th>\n",
       "    </tr>\n",
       "  </thead>\n",
       "  <tbody>\n",
       "    <tr>\n",
       "      <th>0</th>\n",
       "      <td>1</td>\n",
       "      <td>Toy Story (1995)</td>\n",
       "      <td>5</td>\n",
       "    </tr>\n",
       "    <tr>\n",
       "      <th>1</th>\n",
       "      <td>6</td>\n",
       "      <td>Toy Story (1995)</td>\n",
       "      <td>4</td>\n",
       "    </tr>\n",
       "    <tr>\n",
       "      <th>2</th>\n",
       "      <td>8</td>\n",
       "      <td>Toy Story (1995)</td>\n",
       "      <td>4</td>\n",
       "    </tr>\n",
       "    <tr>\n",
       "      <th>3</th>\n",
       "      <td>9</td>\n",
       "      <td>Toy Story (1995)</td>\n",
       "      <td>5</td>\n",
       "    </tr>\n",
       "    <tr>\n",
       "      <th>4</th>\n",
       "      <td>10</td>\n",
       "      <td>Toy Story (1995)</td>\n",
       "      <td>5</td>\n",
       "    </tr>\n",
       "    <tr>\n",
       "      <th>5</th>\n",
       "      <td>18</td>\n",
       "      <td>Toy Story (1995)</td>\n",
       "      <td>4</td>\n",
       "    </tr>\n",
       "    <tr>\n",
       "      <th>6</th>\n",
       "      <td>19</td>\n",
       "      <td>Toy Story (1995)</td>\n",
       "      <td>5</td>\n",
       "    </tr>\n",
       "    <tr>\n",
       "      <th>7</th>\n",
       "      <td>21</td>\n",
       "      <td>Toy Story (1995)</td>\n",
       "      <td>3</td>\n",
       "    </tr>\n",
       "    <tr>\n",
       "      <th>8</th>\n",
       "      <td>23</td>\n",
       "      <td>Toy Story (1995)</td>\n",
       "      <td>4</td>\n",
       "    </tr>\n",
       "    <tr>\n",
       "      <th>9</th>\n",
       "      <td>26</td>\n",
       "      <td>Toy Story (1995)</td>\n",
       "      <td>3</td>\n",
       "    </tr>\n",
       "  </tbody>\n",
       "</table>\n",
       "</div>"
      ],
      "text/plain": [
       "   user_id             title  counts\n",
       "0        1  Toy Story (1995)       5\n",
       "1        6  Toy Story (1995)       4\n",
       "2        8  Toy Story (1995)       4\n",
       "3        9  Toy Story (1995)       5\n",
       "4       10  Toy Story (1995)       5\n",
       "5       18  Toy Story (1995)       4\n",
       "6       19  Toy Story (1995)       5\n",
       "7       21  Toy Story (1995)       3\n",
       "8       23  Toy Story (1995)       4\n",
       "9       26  Toy Story (1995)       3"
      ]
     },
     "execution_count": 8,
     "metadata": {},
     "output_type": "execute_result"
    }
   ],
   "source": [
    "# 사용하는 컬럼만 남겨줍니다.\n",
    "using_cols = [ 'user_id','title', 'counts']\n",
    "data = data[using_cols]\n",
    "data.head(10)"
   ]
  },
  {
   "cell_type": "code",
   "execution_count": 9,
   "id": "b38ca7df",
   "metadata": {},
   "outputs": [],
   "source": [
    "# 검색 및 훈련을 위해서 제목의 대문자를 모두 소문자로 바꿈\n",
    "data['title'] = data['title'].str.lower() "
   ]
  },
  {
   "cell_type": "markdown",
   "id": "e6aeea6b",
   "metadata": {},
   "source": [
    "## 2. 데이터 분석"
   ]
  },
  {
   "cell_type": "markdown",
   "id": "862571df",
   "metadata": {},
   "source": [
    "### 2-1. ratings에 있는 유니크한 영화 개수"
   ]
  },
  {
   "cell_type": "code",
   "execution_count": 10,
   "id": "eed805fd",
   "metadata": {},
   "outputs": [
    {
     "data": {
      "text/plain": [
       "3628"
      ]
     },
     "execution_count": 10,
     "metadata": {},
     "output_type": "execute_result"
    }
   ],
   "source": [
    "data['title'].nunique()"
   ]
  },
  {
   "cell_type": "markdown",
   "id": "93ae4a03",
   "metadata": {},
   "source": [
    "### 2-2. ratings에 있는 유니크한 사용자 수"
   ]
  },
  {
   "cell_type": "code",
   "execution_count": 11,
   "id": "1da34980",
   "metadata": {},
   "outputs": [
    {
     "data": {
      "text/plain": [
       "6039"
      ]
     },
     "execution_count": 11,
     "metadata": {},
     "output_type": "execute_result"
    }
   ],
   "source": [
    "data['user_id'].nunique()"
   ]
  },
  {
   "cell_type": "markdown",
   "id": "da9307bd",
   "metadata": {},
   "source": [
    "### 2-3. 가장 인기 있는 영화 30개(인기순)"
   ]
  },
  {
   "cell_type": "code",
   "execution_count": 12,
   "id": "3eaa211d",
   "metadata": {},
   "outputs": [
    {
     "data": {
      "text/plain": [
       "title\n",
       "american beauty (1999)                                   3211\n",
       "star wars: episode iv - a new hope (1977)                2910\n",
       "star wars: episode v - the empire strikes back (1980)    2885\n",
       "star wars: episode vi - return of the jedi (1983)        2716\n",
       "saving private ryan (1998)                               2561\n",
       "terminator 2: judgment day (1991)                        2509\n",
       "silence of the lambs, the (1991)                         2498\n",
       "raiders of the lost ark (1981)                           2473\n",
       "back to the future (1985)                                2460\n",
       "matrix, the (1999)                                       2434\n",
       "jurassic park (1993)                                     2413\n",
       "sixth sense, the (1999)                                  2385\n",
       "fargo (1996)                                             2371\n",
       "braveheart (1995)                                        2314\n",
       "men in black (1997)                                      2297\n",
       "schindler's list (1993)                                  2257\n",
       "princess bride, the (1987)                               2252\n",
       "shakespeare in love (1998)                               2213\n",
       "l.a. confidential (1997)                                 2210\n",
       "shawshank redemption, the (1994)                         2194\n",
       "godfather, the (1972)                                    2167\n",
       "groundhog day (1993)                                     2121\n",
       "e.t. the extra-terrestrial (1982)                        2102\n",
       "being john malkovich (1999)                              2066\n",
       "ghostbusters (1984)                                      2051\n",
       "pulp fiction (1994)                                      2030\n",
       "forrest gump (1994)                                      2022\n",
       "terminator, the (1984)                                   2019\n",
       "toy story (1995)                                         2000\n",
       "fugitive, the (1993)                                     1941\n",
       "Name: user_id, dtype: int64"
      ]
     },
     "execution_count": 12,
     "metadata": {},
     "output_type": "execute_result"
    }
   ],
   "source": [
    "movies_count = data.groupby('title')['user_id'].count()\n",
    "movies_count.sort_values(ascending=False).head(30)"
   ]
  },
  {
   "cell_type": "markdown",
   "id": "3d52b4a0",
   "metadata": {},
   "source": [
    "## 3. 내가 선호하는 영화를 5가지 골라서 data에 추가"
   ]
  },
  {
   "cell_type": "code",
   "execution_count": 13,
   "id": "8adcb55c",
   "metadata": {},
   "outputs": [
    {
     "data": {
      "text/html": [
       "<div>\n",
       "<style scoped>\n",
       "    .dataframe tbody tr th:only-of-type {\n",
       "        vertical-align: middle;\n",
       "    }\n",
       "\n",
       "    .dataframe tbody tr th {\n",
       "        vertical-align: top;\n",
       "    }\n",
       "\n",
       "    .dataframe thead th {\n",
       "        text-align: right;\n",
       "    }\n",
       "</style>\n",
       "<table border=\"1\" class=\"dataframe\">\n",
       "  <thead>\n",
       "    <tr style=\"text-align: right;\">\n",
       "      <th></th>\n",
       "      <th>user_id</th>\n",
       "      <th>title</th>\n",
       "      <th>counts</th>\n",
       "    </tr>\n",
       "  </thead>\n",
       "  <tbody>\n",
       "    <tr>\n",
       "      <th>836463</th>\n",
       "      <td>5074</td>\n",
       "      <td>contender, the (2000)</td>\n",
       "      <td>4</td>\n",
       "    </tr>\n",
       "    <tr>\n",
       "      <th>836464</th>\n",
       "      <td>5087</td>\n",
       "      <td>contender, the (2000)</td>\n",
       "      <td>4</td>\n",
       "    </tr>\n",
       "    <tr>\n",
       "      <th>836465</th>\n",
       "      <td>5100</td>\n",
       "      <td>contender, the (2000)</td>\n",
       "      <td>4</td>\n",
       "    </tr>\n",
       "    <tr>\n",
       "      <th>836466</th>\n",
       "      <td>5205</td>\n",
       "      <td>contender, the (2000)</td>\n",
       "      <td>4</td>\n",
       "    </tr>\n",
       "    <tr>\n",
       "      <th>836467</th>\n",
       "      <td>5304</td>\n",
       "      <td>contender, the (2000)</td>\n",
       "      <td>4</td>\n",
       "    </tr>\n",
       "    <tr>\n",
       "      <th>836468</th>\n",
       "      <td>5333</td>\n",
       "      <td>contender, the (2000)</td>\n",
       "      <td>4</td>\n",
       "    </tr>\n",
       "    <tr>\n",
       "      <th>836469</th>\n",
       "      <td>5359</td>\n",
       "      <td>contender, the (2000)</td>\n",
       "      <td>5</td>\n",
       "    </tr>\n",
       "    <tr>\n",
       "      <th>836470</th>\n",
       "      <td>5405</td>\n",
       "      <td>contender, the (2000)</td>\n",
       "      <td>4</td>\n",
       "    </tr>\n",
       "    <tr>\n",
       "      <th>836471</th>\n",
       "      <td>5475</td>\n",
       "      <td>contender, the (2000)</td>\n",
       "      <td>5</td>\n",
       "    </tr>\n",
       "    <tr>\n",
       "      <th>836472</th>\n",
       "      <td>5602</td>\n",
       "      <td>contender, the (2000)</td>\n",
       "      <td>3</td>\n",
       "    </tr>\n",
       "    <tr>\n",
       "      <th>836473</th>\n",
       "      <td>5682</td>\n",
       "      <td>contender, the (2000)</td>\n",
       "      <td>3</td>\n",
       "    </tr>\n",
       "    <tr>\n",
       "      <th>836474</th>\n",
       "      <td>5812</td>\n",
       "      <td>contender, the (2000)</td>\n",
       "      <td>4</td>\n",
       "    </tr>\n",
       "    <tr>\n",
       "      <th>836475</th>\n",
       "      <td>5831</td>\n",
       "      <td>contender, the (2000)</td>\n",
       "      <td>3</td>\n",
       "    </tr>\n",
       "    <tr>\n",
       "      <th>836476</th>\n",
       "      <td>5837</td>\n",
       "      <td>contender, the (2000)</td>\n",
       "      <td>4</td>\n",
       "    </tr>\n",
       "    <tr>\n",
       "      <th>836477</th>\n",
       "      <td>5998</td>\n",
       "      <td>contender, the (2000)</td>\n",
       "      <td>4</td>\n",
       "    </tr>\n",
       "    <tr>\n",
       "      <th>0</th>\n",
       "      <td>YJKim</td>\n",
       "      <td>saving private ryan (1998)</td>\n",
       "      <td>5</td>\n",
       "    </tr>\n",
       "    <tr>\n",
       "      <th>1</th>\n",
       "      <td>YJKim</td>\n",
       "      <td>sixth sense, the (1999)</td>\n",
       "      <td>5</td>\n",
       "    </tr>\n",
       "    <tr>\n",
       "      <th>2</th>\n",
       "      <td>YJKim</td>\n",
       "      <td>godfather, the (1972)</td>\n",
       "      <td>5</td>\n",
       "    </tr>\n",
       "    <tr>\n",
       "      <th>3</th>\n",
       "      <td>YJKim</td>\n",
       "      <td>gladiator (2000)</td>\n",
       "      <td>5</td>\n",
       "    </tr>\n",
       "    <tr>\n",
       "      <th>4</th>\n",
       "      <td>YJKim</td>\n",
       "      <td>die hard (1988)</td>\n",
       "      <td>5</td>\n",
       "    </tr>\n",
       "  </tbody>\n",
       "</table>\n",
       "</div>"
      ],
      "text/plain": [
       "       user_id                       title  counts\n",
       "836463    5074       contender, the (2000)       4\n",
       "836464    5087       contender, the (2000)       4\n",
       "836465    5100       contender, the (2000)       4\n",
       "836466    5205       contender, the (2000)       4\n",
       "836467    5304       contender, the (2000)       4\n",
       "836468    5333       contender, the (2000)       4\n",
       "836469    5359       contender, the (2000)       5\n",
       "836470    5405       contender, the (2000)       4\n",
       "836471    5475       contender, the (2000)       5\n",
       "836472    5602       contender, the (2000)       3\n",
       "836473    5682       contender, the (2000)       3\n",
       "836474    5812       contender, the (2000)       4\n",
       "836475    5831       contender, the (2000)       3\n",
       "836476    5837       contender, the (2000)       4\n",
       "836477    5998       contender, the (2000)       4\n",
       "0        YJKim  saving private ryan (1998)       5\n",
       "1        YJKim     sixth sense, the (1999)       5\n",
       "2        YJKim       godfather, the (1972)       5\n",
       "3        YJKim            gladiator (2000)       5\n",
       "4        YJKim             die hard (1988)       5"
      ]
     },
     "execution_count": 13,
     "metadata": {},
     "output_type": "execute_result"
    }
   ],
   "source": [
    "# 내가 좋아하시는 영화의 데이터로 바꿔서 추가\n",
    "my_favorite = ['saving private ryan (1998)', 'sixth sense, the (1999)', 'godfather, the (1972)',\n",
    "               'gladiator (2000)', 'die hard (1988)']\n",
    "\n",
    "# 'YJKim'이라는 user_id가 위 영화의 평점을 5점씩 주었다고 가정\n",
    "my_playlist = pd.DataFrame({'user_id': ['YJKim']*5, 'title': my_favorite, 'counts':[5]*5})\n",
    "\n",
    "# user_id에 'YJKim'이라는 데이터가 없다면 위에 임의로 만든 my_favorite 데이터를 추가해 줌 \n",
    "if not data.isin({'user_id':['YJKim']})['user_id'].any():  \n",
    "    data = data.append(my_playlist)   \n",
    "    \n",
    "data.tail(20) "
   ]
  },
  {
   "cell_type": "code",
   "execution_count": 14,
   "id": "58fe1b23",
   "metadata": {},
   "outputs": [],
   "source": [
    "# 고유한 유저, 타이틀을 찾아내는 코드\n",
    "user_unique = data['user_id'].unique()\n",
    "title_unique = data['title'].unique()\n",
    "\n",
    "# 유저, 타이틀 indexing 하는 코드 (idx는 index의 약자)\n",
    "user_to_idx = {v:k for k,v in enumerate(user_unique)}\n",
    "title_to_idx = {v:k for k,v in enumerate(title_unique)}"
   ]
  },
  {
   "cell_type": "code",
   "execution_count": 15,
   "id": "5bc995de",
   "metadata": {},
   "outputs": [
    {
     "name": "stdout",
     "output_type": "stream",
     "text": [
      "6039\n",
      "1810\n",
      "2507\n",
      "785\n",
      "3270\n",
      "949\n"
     ]
    }
   ],
   "source": [
    "# 인덱싱이 잘 되었는지 확인 \n",
    "print(user_to_idx['YJKim'])  # 6040명의 유저 중 마지막으로 추가된 유저이니 6039이 나와야 함 \n",
    "print(title_to_idx['saving private ryan (1998)'])\n",
    "print(title_to_idx['sixth sense, the (1999)'])\n",
    "print(title_to_idx['godfather, the (1972)'])\n",
    "print(title_to_idx['gladiator (2000)'])\n",
    "print(title_to_idx['die hard (1988)'])"
   ]
  },
  {
   "cell_type": "markdown",
   "id": "4135bc16",
   "metadata": {},
   "source": [
    "#### 내가 점수를 부여한 영화는 인덱스가 3628보다 작아 모두 기존 영화목록에 있다."
   ]
  },
  {
   "cell_type": "code",
   "execution_count": 16,
   "id": "55da5ad8",
   "metadata": {},
   "outputs": [
    {
     "name": "stdout",
     "output_type": "stream",
     "text": [
      "user_id column indexing OK!!\n",
      "title column indexing OK!!\n"
     ]
    },
    {
     "data": {
      "text/html": [
       "<div>\n",
       "<style scoped>\n",
       "    .dataframe tbody tr th:only-of-type {\n",
       "        vertical-align: middle;\n",
       "    }\n",
       "\n",
       "    .dataframe tbody tr th {\n",
       "        vertical-align: top;\n",
       "    }\n",
       "\n",
       "    .dataframe thead th {\n",
       "        text-align: right;\n",
       "    }\n",
       "</style>\n",
       "<table border=\"1\" class=\"dataframe\">\n",
       "  <thead>\n",
       "    <tr style=\"text-align: right;\">\n",
       "      <th></th>\n",
       "      <th>user_id</th>\n",
       "      <th>title</th>\n",
       "      <th>counts</th>\n",
       "    </tr>\n",
       "  </thead>\n",
       "  <tbody>\n",
       "    <tr>\n",
       "      <th>0</th>\n",
       "      <td>0</td>\n",
       "      <td>0</td>\n",
       "      <td>5</td>\n",
       "    </tr>\n",
       "    <tr>\n",
       "      <th>1</th>\n",
       "      <td>1</td>\n",
       "      <td>0</td>\n",
       "      <td>4</td>\n",
       "    </tr>\n",
       "    <tr>\n",
       "      <th>2</th>\n",
       "      <td>2</td>\n",
       "      <td>0</td>\n",
       "      <td>4</td>\n",
       "    </tr>\n",
       "    <tr>\n",
       "      <th>3</th>\n",
       "      <td>3</td>\n",
       "      <td>0</td>\n",
       "      <td>5</td>\n",
       "    </tr>\n",
       "    <tr>\n",
       "      <th>4</th>\n",
       "      <td>4</td>\n",
       "      <td>0</td>\n",
       "      <td>5</td>\n",
       "    </tr>\n",
       "    <tr>\n",
       "      <th>...</th>\n",
       "      <td>...</td>\n",
       "      <td>...</td>\n",
       "      <td>...</td>\n",
       "    </tr>\n",
       "    <tr>\n",
       "      <th>0</th>\n",
       "      <td>6039</td>\n",
       "      <td>1810</td>\n",
       "      <td>5</td>\n",
       "    </tr>\n",
       "    <tr>\n",
       "      <th>1</th>\n",
       "      <td>6039</td>\n",
       "      <td>2507</td>\n",
       "      <td>5</td>\n",
       "    </tr>\n",
       "    <tr>\n",
       "      <th>2</th>\n",
       "      <td>6039</td>\n",
       "      <td>785</td>\n",
       "      <td>5</td>\n",
       "    </tr>\n",
       "    <tr>\n",
       "      <th>3</th>\n",
       "      <td>6039</td>\n",
       "      <td>3270</td>\n",
       "      <td>5</td>\n",
       "    </tr>\n",
       "    <tr>\n",
       "      <th>4</th>\n",
       "      <td>6039</td>\n",
       "      <td>949</td>\n",
       "      <td>5</td>\n",
       "    </tr>\n",
       "  </tbody>\n",
       "</table>\n",
       "<p>836483 rows × 3 columns</p>\n",
       "</div>"
      ],
      "text/plain": [
       "    user_id  title  counts\n",
       "0         0      0       5\n",
       "1         1      0       4\n",
       "2         2      0       4\n",
       "3         3      0       5\n",
       "4         4      0       5\n",
       "..      ...    ...     ...\n",
       "0      6039   1810       5\n",
       "1      6039   2507       5\n",
       "2      6039    785       5\n",
       "3      6039   3270       5\n",
       "4      6039    949       5\n",
       "\n",
       "[836483 rows x 3 columns]"
      ]
     },
     "execution_count": 16,
     "metadata": {},
     "output_type": "execute_result"
    }
   ],
   "source": [
    "# indexing을 통해 데이터 컬럼 내 값을 바꾸는 코드 (새로 추가한 유저(YJKim)를 indexing)\n",
    "\n",
    "# user_to_idx.get을 통해 user_id 컬럼의 모든 값을 인덱싱한 Series를 구함 \n",
    "# 혹시 정상적으로 인덱싱되지 않은 row가 있다면 인덱스가 NaN이 될 테니 dropna()로 제거 \n",
    "temp_user_data = data['user_id'].map(user_to_idx.get).dropna()\n",
    "if len(temp_user_data) == len(data):   # 모든 row가 정상적으로 인덱싱되었다면\n",
    "    print('user_id column indexing OK!!')\n",
    "    data['user_id'] = temp_user_data   # data['user_id']을 인덱싱된 Series로 교체 \n",
    "else:\n",
    "    print('user_id column indexing Fail!!')\n",
    "\n",
    "# temp_title_data을 통해 title 컬럼도 동일한 방식으로 인덱싱 \n",
    "temp_title_data = data['title'].map(title_to_idx.get).dropna()\n",
    "if len(temp_title_data) == len(data):\n",
    "    print('title column indexing OK!!')\n",
    "    data['title'] = temp_title_data\n",
    "else:\n",
    "    print('title column indexing Fail!!')\n",
    "\n",
    "data"
   ]
  },
  {
   "cell_type": "markdown",
   "id": "6f32e2f8",
   "metadata": {},
   "source": [
    "## 4. CSR(Compressed Sparse Row) Matrix 작성"
   ]
  },
  {
   "cell_type": "code",
   "execution_count": 17,
   "id": "3dbda832",
   "metadata": {},
   "outputs": [
    {
     "data": {
      "text/plain": [
       "(6040, 3628)"
      ]
     },
     "execution_count": 17,
     "metadata": {},
     "output_type": "execute_result"
    }
   ],
   "source": [
    "# 유저수와 영화수 확인\n",
    "data['user_id'].nunique(), data['title'].nunique()"
   ]
  },
  {
   "cell_type": "markdown",
   "id": "8dd6a33c",
   "metadata": {},
   "source": [
    "#### 총 6,040명의 유저와 3,628편의 영화가 있다."
   ]
  },
  {
   "cell_type": "code",
   "execution_count": 18,
   "id": "8daaa755",
   "metadata": {},
   "outputs": [
    {
     "data": {
      "text/plain": [
       "<6040x3628 sparse matrix of type '<class 'numpy.int64'>'\n",
       "\twith 836483 stored elements in Compressed Sparse Row format>"
      ]
     },
     "execution_count": 18,
     "metadata": {},
     "output_type": "execute_result"
    }
   ],
   "source": [
    "from scipy.sparse import csr_matrix\n",
    "\n",
    "num_user = data['user_id'].nunique()\n",
    "num_movie = data['title'].nunique()\n",
    "\n",
    "csr_data = csr_matrix((data.counts, (data.user_id, data.title)), shape= (num_user, num_movie))\n",
    "csr_data"
   ]
  },
  {
   "cell_type": "markdown",
   "id": "10395aef",
   "metadata": {},
   "source": [
    "#### 사용자와 아이템 개수를 바탕으로 정확한 사이즈로 만들어졌다."
   ]
  },
  {
   "cell_type": "markdown",
   "id": "50f3c6bf",
   "metadata": {},
   "source": [
    "## 5. als_model = AlternatingLeastSquares 모델을 직접 구성하여 훈련"
   ]
  },
  {
   "cell_type": "code",
   "execution_count": 19,
   "id": "6103ddf8",
   "metadata": {},
   "outputs": [],
   "source": [
    "from implicit.als import AlternatingLeastSquares\n",
    "\n",
    "# implicit 라이브러리에서 권장하고 있는 부분입니다. 학습 내용과는 무관합니다.\n",
    "os.environ['OPENBLAS_NUM_THREADS']='1'\n",
    "os.environ['KMP_DUPLICATE_LIB_OK']='True'\n",
    "os.environ['MKL_NUM_THREADS']='1'"
   ]
  },
  {
   "cell_type": "code",
   "execution_count": 20,
   "id": "e353d1cf",
   "metadata": {},
   "outputs": [],
   "source": [
    "# Implicit AlternatingLeastSquares 모델의 선언\n",
    "als_model = AlternatingLeastSquares(factors=200, regularization=0.02, use_gpu=False, iterations=20, dtype=np.float32)"
   ]
  },
  {
   "cell_type": "code",
   "execution_count": 21,
   "id": "741f37ad",
   "metadata": {},
   "outputs": [
    {
     "data": {
      "text/plain": [
       "<3628x6040 sparse matrix of type '<class 'numpy.int64'>'\n",
       "\twith 836483 stored elements in Compressed Sparse Column format>"
      ]
     },
     "execution_count": 21,
     "metadata": {},
     "output_type": "execute_result"
    }
   ],
   "source": [
    "# als 모델은 input으로 (item X user) 꼴의 matrix를 받기 때문에 Transpose해줌\n",
    "csr_data_transpose = csr_data.T\n",
    "csr_data_transpose"
   ]
  },
  {
   "cell_type": "code",
   "execution_count": 22,
   "id": "5cf8c2a2",
   "metadata": {},
   "outputs": [
    {
     "data": {
      "application/vnd.jupyter.widget-view+json": {
       "model_id": "59152ad92f634ee9a34fe53bb744dd6c",
       "version_major": 2,
       "version_minor": 0
      },
      "text/plain": [
       "  0%|          | 0/20 [00:00<?, ?it/s]"
      ]
     },
     "metadata": {},
     "output_type": "display_data"
    }
   ],
   "source": [
    "# 모델 훈련\n",
    "als_model.fit(csr_data_transpose)"
   ]
  },
  {
   "cell_type": "code",
   "execution_count": 23,
   "id": "87010f23",
   "metadata": {},
   "outputs": [],
   "source": [
    "# YJKim 벡터와 gladiator (2000)의 벡터를 어떻게 만들고 있는지\n",
    "YJKim, gladiator = user_to_idx['YJKim'], title_to_idx['gladiator (2000)']\n",
    "YJKim_vector, gladiator_vector = als_model.user_factors[YJKim], als_model.item_factors[gladiator]"
   ]
  },
  {
   "cell_type": "code",
   "execution_count": 24,
   "id": "501483c7",
   "metadata": {},
   "outputs": [
    {
     "data": {
      "text/plain": [
       "array([ 2.32476577e-01,  4.00793217e-02,  1.47631481e-01, -4.63902146e-01,\n",
       "       -3.69511455e-01,  4.04684879e-02, -1.76119953e-02,  1.54797137e-01,\n",
       "       -4.86532480e-01,  2.13015676e-01,  3.87391686e-01, -5.46569526e-01,\n",
       "        2.27004543e-01,  1.05152406e-01,  6.70004189e-02,  1.03853345e-02,\n",
       "       -1.45547166e-01, -1.54474467e-01,  3.55242074e-01, -2.31961384e-01,\n",
       "       -1.21750832e-01, -2.34763145e-01,  9.20907199e-01, -3.06998789e-01,\n",
       "       -3.00520808e-01,  1.58820003e-01, -5.19637344e-03,  1.00380249e-01,\n",
       "        1.52297392e-01,  5.46943128e-01, -1.12791806e-01, -2.33909994e-01,\n",
       "        4.98952746e-01, -2.81647354e-01, -1.95313498e-01, -1.68137178e-02,\n",
       "        1.00516665e+00,  2.28927314e-01, -3.07395279e-01,  3.34239811e-01,\n",
       "        1.75444275e-01, -1.11226238e-01,  1.37898728e-01,  2.00657308e-01,\n",
       "       -6.18456721e-01, -4.44711186e-02,  3.67960297e-02,  4.47388172e-01,\n",
       "       -8.20972472e-02,  7.88678885e-01,  5.63937910e-02,  6.21792441e-03,\n",
       "       -1.06444836e-01, -3.74590307e-01, -1.17327692e-02,  9.12897103e-03,\n",
       "        3.07717249e-02,  5.98639667e-01, -1.94256231e-02, -3.91981006e-01,\n",
       "        3.81271511e-01, -4.65842694e-01, -1.07363254e-01, -3.20462406e-01,\n",
       "        3.62959474e-01, -8.62181664e-01, -7.29301453e-01, -7.17566386e-02,\n",
       "        1.19824141e-01,  1.97312221e-01,  1.25584036e-01,  4.47858833e-02,\n",
       "       -4.04172629e-01,  3.73813599e-01, -2.29020029e-01, -1.65151209e-01,\n",
       "       -4.56312746e-02,  5.91694303e-02, -3.45072836e-01,  5.32112718e-02,\n",
       "       -6.34458736e-02, -1.30766660e-01,  1.15061179e-01, -1.97658151e-01,\n",
       "       -4.61580753e-02,  2.52094120e-01, -9.47033912e-02,  5.51471226e-02,\n",
       "        5.76558411e-01, -1.69165283e-01,  3.03236675e-02, -5.79411425e-02,\n",
       "       -8.01132858e-01, -9.27492261e-01, -6.71733439e-01,  1.64174542e-01,\n",
       "       -4.11227435e-01, -5.27565420e-01, -2.04357788e-01,  3.42499912e-02,\n",
       "        2.16065153e-01,  6.19817078e-01, -5.30158058e-02, -1.43315375e-01,\n",
       "        1.01698659e-01, -5.35615757e-02, -1.00586750e-01,  8.52183788e-04,\n",
       "       -9.43186879e-02,  3.01369756e-01, -4.31635767e-01, -4.98109311e-02,\n",
       "       -1.83535233e-01,  2.15027139e-01,  3.20100814e-01, -9.57167149e-02,\n",
       "       -1.19253233e-01, -3.14963132e-01,  7.61306658e-02, -3.80279124e-01,\n",
       "       -2.41514117e-01, -8.86704251e-02,  4.51542363e-02,  1.40843749e-01,\n",
       "        3.96813124e-01, -7.04199851e-01, -6.36482686e-02,  4.04165268e-01,\n",
       "       -8.88656825e-02, -5.57360947e-02,  1.45260751e-01,  3.00658435e-01,\n",
       "       -1.60739347e-01, -3.24310921e-02,  2.93202132e-01,  2.91321993e-01,\n",
       "       -2.91956365e-01,  5.42499088e-02,  4.72034365e-01, -7.01606646e-02,\n",
       "        2.15268776e-01,  2.32389003e-01,  2.66368657e-01, -5.79703748e-01,\n",
       "        1.05424859e-01, -2.82688200e-01, -4.09245014e-01,  2.29125053e-01,\n",
       "        3.94550890e-01, -1.24291606e-01,  6.35665417e-01, -4.08893198e-01,\n",
       "        8.11113566e-02, -5.96689999e-01, -1.74529657e-01,  2.75492013e-01,\n",
       "        2.10422739e-01, -1.52567372e-01,  4.66039598e-01,  1.07422583e-01,\n",
       "        1.35978073e-01, -1.02145366e-01,  1.70171987e-02, -8.52536038e-02,\n",
       "        3.73870999e-01, -9.89743695e-02,  8.23943257e-01,  2.33839452e-01,\n",
       "       -4.16656852e-01,  3.13959956e-01, -2.19022453e-01, -4.11886483e-01,\n",
       "        4.92032915e-01,  1.20316684e-01, -3.84811834e-02,  7.95245692e-02,\n",
       "       -7.48180151e-02, -1.90885991e-01,  2.25163456e-02,  2.86651582e-01,\n",
       "        1.69959486e-01,  2.72646189e-01, -5.27127981e-01, -3.30961883e-01,\n",
       "        4.26585317e-01,  1.67779669e-01, -9.81113985e-02,  4.45401251e-01,\n",
       "       -2.64811695e-01, -2.23148078e-01, -1.01650074e-01,  9.34263617e-02,\n",
       "       -2.05013342e-02, -9.44891647e-02,  3.55274081e-01,  5.26098430e-01,\n",
       "        2.63494760e-01,  3.42113018e-01, -1.34527937e-01,  3.33666325e-01],\n",
       "      dtype=float32)"
      ]
     },
     "execution_count": 24,
     "metadata": {},
     "output_type": "execute_result"
    }
   ],
   "source": [
    "YJKim_vector"
   ]
  },
  {
   "cell_type": "code",
   "execution_count": 25,
   "id": "6003070e",
   "metadata": {},
   "outputs": [
    {
     "data": {
      "text/plain": [
       "array([ 0.03654819, -0.00080493,  0.03310014, -0.00912815, -0.03599286,\n",
       "        0.01224669, -0.02878761,  0.01536378, -0.0131797 ,  0.02819902,\n",
       "        0.04175749, -0.02452933, -0.01116403, -0.01710727,  0.0280606 ,\n",
       "        0.02228355, -0.00728517, -0.02022888,  0.01792426, -0.02952919,\n",
       "        0.00526002,  0.00651958,  0.02043268,  0.00080293, -0.01659622,\n",
       "        0.06473186,  0.00386107,  0.02133526,  0.02606721,  0.04340047,\n",
       "        0.01704863, -0.00721647,  0.0032033 ,  0.00198149,  0.01459343,\n",
       "        0.00089862,  0.01639691, -0.00511509,  0.01205988,  0.07509709,\n",
       "        0.01647216,  0.04523923,  0.00911622,  0.04528669, -0.02864759,\n",
       "        0.02228835,  0.00595182,  0.05867262,  0.01112861,  0.03778834,\n",
       "       -0.06642418, -0.00903842, -0.03015688,  0.00225241,  0.01436729,\n",
       "        0.02551956,  0.00203922, -0.01672438, -0.00222845, -0.02745043,\n",
       "        0.02918672, -0.02799186, -0.01522177, -0.02719835,  0.01996326,\n",
       "       -0.0531535 ,  0.00971145,  0.00963425,  0.00786048,  0.01330431,\n",
       "        0.00505132,  0.03008847, -0.02043457,  0.06388394,  0.01127621,\n",
       "        0.01525523, -0.02883946,  0.04168876, -0.00459481, -0.03869929,\n",
       "       -0.01421049, -0.01811025,  0.0142367 , -0.00989141, -0.03108404,\n",
       "       -0.01573881, -0.00559275,  0.00343   ,  0.02370881, -0.02479013,\n",
       "        0.01007032, -0.02816032, -0.01079152, -0.02455073,  0.02114211,\n",
       "        0.0104305 , -0.02300013, -0.02463461,  0.02547516, -0.03593884,\n",
       "        0.01917434,  0.05735461, -0.01674028,  0.00161414,  0.00703429,\n",
       "        0.01786852, -0.04766848, -0.00532403, -0.01351117, -0.01420581,\n",
       "       -0.01409128,  0.03238593, -0.00123248, -0.02327299,  0.0450061 ,\n",
       "       -0.00874292, -0.01693072, -0.01283681, -0.0186722 , -0.00689356,\n",
       "       -0.02047846, -0.00838943,  0.02945081, -0.02836426,  0.02655391,\n",
       "       -0.06304248,  0.03869964,  0.02759909, -0.01679814, -0.01782082,\n",
       "        0.03112234,  0.02707766,  0.0184399 ,  0.04317199, -0.01366104,\n",
       "        0.01208685,  0.01557497, -0.01480829,  0.07686802,  0.02837218,\n",
       "        0.04182516,  0.01502015,  0.04101337,  0.0261188 ,  0.03318688,\n",
       "        0.00245359, -0.02459866, -0.00157781,  0.07937693,  0.03303126,\n",
       "        0.02245944,  0.00681852, -0.00583879, -0.06180587, -0.00190561,\n",
       "       -0.00013619, -0.00798918, -0.02238022,  0.065618  ,  0.04297548,\n",
       "        0.05817257,  0.02825869, -0.01055376, -0.01451206,  0.00663601,\n",
       "        0.00533105,  0.03462958,  0.0042472 ,  0.00940277,  0.02201856,\n",
       "        0.03515365,  0.00085488,  0.0019731 , -0.00226346, -0.00342492,\n",
       "       -0.00962478,  0.02022333, -0.00078327, -0.03118853,  0.02758306,\n",
       "       -0.01350325, -0.00606946, -0.02729709,  0.01531699,  0.00111853,\n",
       "       -0.03116167,  0.03088325,  0.00520513,  0.01391702,  0.01898708,\n",
       "       -0.00950302, -0.01764421,  0.02037065,  0.00505912,  0.03411337,\n",
       "        0.01400413,  0.00147238,  0.00419896,  0.02049627,  0.02161376],\n",
       "      dtype=float32)"
      ]
     },
     "execution_count": 25,
     "metadata": {},
     "output_type": "execute_result"
    }
   ],
   "source": [
    "gladiator_vector"
   ]
  },
  {
   "cell_type": "markdown",
   "id": "ead96ce1",
   "metadata": {},
   "source": [
    "## 6. 내가 선호하는 5가지 영화 중 하나와 그 외의 영화 하나를 골라 훈련된 모델이 예측한 나의 선호도를 파악"
   ]
  },
  {
   "cell_type": "code",
   "execution_count": 26,
   "id": "55dc3a38",
   "metadata": {},
   "outputs": [
    {
     "data": {
      "text/plain": [
       "0.8005463"
      ]
     },
     "execution_count": 26,
     "metadata": {},
     "output_type": "execute_result"
    }
   ],
   "source": [
    "# YJKim과 gladiator (2000)를 내적하는 코드\n",
    "np.dot(YJKim_vector, gladiator_vector)"
   ]
  },
  {
   "cell_type": "code",
   "execution_count": 27,
   "id": "95b573ef",
   "metadata": {},
   "outputs": [
    {
     "data": {
      "text/plain": [
       "0.7771147"
      ]
     },
     "execution_count": 27,
     "metadata": {},
     "output_type": "execute_result"
    }
   ],
   "source": [
    "# 모델이 내가 선호하는 godfather, the (1972)에 대한 선호도 예측\n",
    "godfather = title_to_idx['godfather, the (1972)']\n",
    "godfather_vector = als_model.item_factors[godfather]\n",
    "np.dot(YJKim_vector, godfather_vector)"
   ]
  },
  {
   "cell_type": "code",
   "execution_count": 28,
   "id": "a48e3f97",
   "metadata": {},
   "outputs": [
    {
     "data": {
      "text/plain": [
       "0.027053438"
      ]
     },
     "execution_count": 28,
     "metadata": {},
     "output_type": "execute_result"
    }
   ],
   "source": [
    "# 모델이 그 외의영화 forrest gump (1994)에 대한 선호도 예측\n",
    "forrest_gump = title_to_idx['forrest gump (1994)']\n",
    "forrest_gump_vector = als_model.item_factors[forrest_gump]\n",
    "np.dot(YJKim_vector, forrest_gump_vector)"
   ]
  },
  {
   "cell_type": "markdown",
   "id": "61e4c556",
   "metadata": {},
   "source": [
    "#### 내가 선호하는 godfather, the (1972)에 대해서는 0.777의 매우 높은 선호도를 나타낸 반면 장르가 전혀 다른\n",
    "#### forrest gump (1994)에 대해서는 0.027의 매우 낮은 선호도를 나타내고있어 훈련이 잘 되었다고 판단된다."
   ]
  },
  {
   "cell_type": "markdown",
   "id": "c670ad17",
   "metadata": {},
   "source": [
    "## 7. 내가 좋아하는 영화와 비슷한 영화를 추천받기"
   ]
  },
  {
   "cell_type": "code",
   "execution_count": 29,
   "id": "1b83f61f",
   "metadata": {},
   "outputs": [],
   "source": [
    "#  반복해서 확인하기 위해 위의 코드를 함수로 작성\n",
    "\n",
    "idx_to_title = {v:k for k,v in title_to_idx.items()}\n",
    "def get_similar_title(movie_name: str):\n",
    "    movie_id = title_to_idx[movie_name]\n",
    "    similar_title = als_model.similar_items(movie_id)\n",
    "    similar_title = [idx_to_title[i[0]] for i in similar_title]\n",
    "    return similar_title"
   ]
  },
  {
   "cell_type": "code",
   "execution_count": 30,
   "id": "017d0302",
   "metadata": {},
   "outputs": [
    {
     "data": {
      "text/plain": [
       "['die hard (1988)',\n",
       " 'terminator, the (1984)',\n",
       " 'indiana jones and the last crusade (1989)',\n",
       " 'untouchables, the (1987)',\n",
       " 'fugitive, the (1993)',\n",
       " 'die hard 2 (1990)',\n",
       " 'raiders of the lost ark (1981)',\n",
       " 'rocky (1976)',\n",
       " 'predator (1987)',\n",
       " 'aliens (1986)']"
      ]
     },
     "execution_count": 30,
     "metadata": {},
     "output_type": "execute_result"
    }
   ],
   "source": [
    "get_similar_title('die hard (1988)')"
   ]
  },
  {
   "cell_type": "code",
   "execution_count": 31,
   "id": "3d7c6e33",
   "metadata": {},
   "outputs": [
    {
     "data": {
      "text/plain": [
       "['sixth sense, the (1999)',\n",
       " 'usual suspects, the (1995)',\n",
       " 'end of days (1999)',\n",
       " 'seven (se7en) (1995)',\n",
       " 'ghostbusters (1984)',\n",
       " 'silence of the lambs, the (1991)',\n",
       " 'bone collector, the (1999)',\n",
       " 'eyes wide shut (1999)',\n",
       " 'superstar (1999)',\n",
       " 'fugitive, the (1993)']"
      ]
     },
     "execution_count": 31,
     "metadata": {},
     "output_type": "execute_result"
    }
   ],
   "source": [
    "get_similar_title('sixth sense, the (1999)')"
   ]
  },
  {
   "cell_type": "markdown",
   "id": "437dff61",
   "metadata": {},
   "source": [
    "#### 내가 점수를 부여했던 영화를 입력하고 비슷한 영화를 추천받아본 결과 매우 유사한 장르의 영화들이 추천되었다."
   ]
  },
  {
   "cell_type": "markdown",
   "id": "9e9fecaa",
   "metadata": {},
   "source": [
    "## 8. 내가 가장 좋아할 만한 영화들을 추천받아 봅시다."
   ]
  },
  {
   "cell_type": "code",
   "execution_count": 32,
   "id": "2b2f01ac",
   "metadata": {},
   "outputs": [
    {
     "data": {
      "text/plain": [
       "['godfather: part ii, the (1974)',\n",
       " 'fugitive, the (1993)',\n",
       " 'raiders of the lost ark (1981)',\n",
       " 'braveheart (1995)',\n",
       " 'rocky (1976)',\n",
       " 'indiana jones and the last crusade (1989)',\n",
       " 'glory (1989)',\n",
       " \"schindler's list (1993)\",\n",
       " 'terminator, the (1984)',\n",
       " 'mission: impossible 2 (2000)',\n",
       " 'jaws (1975)',\n",
       " 'lethal weapon (1987)',\n",
       " 'matrix, the (1999)',\n",
       " 'perfect storm, the (2000)',\n",
       " 'patriot, the (2000)',\n",
       " 'terminator 2: judgment day (1991)',\n",
       " 'usual suspects, the (1995)',\n",
       " 'die hard 2 (1990)',\n",
       " 'full metal jacket (1987)',\n",
       " 'untouchables, the (1987)']"
      ]
     },
     "execution_count": 32,
     "metadata": {},
     "output_type": "execute_result"
    }
   ],
   "source": [
    "user = user_to_idx['YJKim']\n",
    "# recommend에서는 user*item CSR Matrix를 받습니다.\n",
    "title_recommended = als_model.recommend(user, csr_data, N=20, filter_already_liked_items=True)\n",
    "[idx_to_title[i[0]] for i in title_recommended]"
   ]
  },
  {
   "cell_type": "markdown",
   "id": "53ad675d",
   "metadata": {},
   "source": [
    "#### 모두 내가 좋아하는 장르의 영화들이 추천되었다."
   ]
  },
  {
   "cell_type": "code",
   "execution_count": 33,
   "id": "df81758c",
   "metadata": {},
   "outputs": [],
   "source": [
    "# 위에 godfather: part ii, the (1974)를 추천받은데 대한 내가 평가한 영화들의 기여도를 확인\n",
    "godfather = title_to_idx['godfather: part ii, the (1974)']\n",
    "explain = als_model.explain(user, csr_data, itemid=godfather)"
   ]
  },
  {
   "cell_type": "code",
   "execution_count": 34,
   "id": "c8559e61",
   "metadata": {},
   "outputs": [
    {
     "data": {
      "text/plain": [
       "[('godfather, the (1972)', 0.6049795472635341),\n",
       " ('die hard (1988)', 0.023904302742023938),\n",
       " ('saving private ryan (1998)', 0.007321160293261753),\n",
       " ('sixth sense, the (1999)', -0.003208932446517628),\n",
       " ('gladiator (2000)', -0.016921928212423006)]"
      ]
     },
     "execution_count": 34,
     "metadata": {},
     "output_type": "execute_result"
    }
   ],
   "source": [
    "[(idx_to_title[i[0]], i[1]) for i in explain[1]]"
   ]
  },
  {
   "cell_type": "markdown",
   "id": "69f845c5",
   "metadata": {},
   "source": [
    "#### 첫번째로 추천받은 godfather: part ii, the (1974)에대한 기여도를 분석한 결과 시리즈물인 godfather, the (1972)가\n",
    "#### 0.6으로 가장 많이 기여하였고 장르가 조금 다른 gladiator (2000)는 (-)의 기여도가 확인되어 모델이 잘 훈련\n",
    "#### 되었다고 판단된다."
   ]
  },
  {
   "cell_type": "markdown",
   "id": "4f9027d7",
   "metadata": {},
   "source": [
    "## 회고\n",
    "### 이번 프로젝트에서 어려웠던 점\n",
    "\n",
    "CSR Matrix 작성시 \"ValueError: row index exceeds matrix dimensions\" 에러가 발생하여 원인을 찾지 못해 고생했다.\n",
    "새로 추가된 유저를 indexing하면서 원인이 제거된것으로 생각된다.\n",
    "\n",
    "### 프로젝트를 진행하면서 알아낸 점 혹은 아직 모호한 점\n",
    "\n",
    "모델훈련을 반복하면서 좋은 결과값이 나와 모든 셀을 다시 실행시키면 값이 또 바뀐다. iteration이 누적될 가능성이 있지 않을까?\n",
    "\n",
    "### 루브릭 평가 지표를 맞추기 위해 시도한 것들\n",
    "\n",
    "Hyperparameter인 factors, regularization, iterations 등을 다양하게 바꾸어 보았다.\n",
    "\n",
    "### 만약에 루브릭 평가 관련 지표를 달성 하지 못했을 때, 이유에 관한 추정\n",
    "\n",
    "충분히 달성했다고 생각된다.\n",
    "\n",
    "### 자기 다짐\n",
    "\n",
    "추천시스템은 인터넷을 사용하면서 늘 접하는 분야로 평소 궁금했는데 관심갖고 공부하여 기회가 되었을 때 활용할 수 있도록 하겠다."
   ]
  }
 ],
 "metadata": {
  "kernelspec": {
   "display_name": "Python 3 (ipykernel)",
   "language": "python",
   "name": "python3"
  },
  "language_info": {
   "codemirror_mode": {
    "name": "ipython",
    "version": 3
   },
   "file_extension": ".py",
   "mimetype": "text/x-python",
   "name": "python",
   "nbconvert_exporter": "python",
   "pygments_lexer": "ipython3",
   "version": "3.9.7"
  }
 },
 "nbformat": 4,
 "nbformat_minor": 5
}
